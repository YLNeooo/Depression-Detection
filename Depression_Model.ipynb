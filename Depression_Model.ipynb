!pip3 install mne
